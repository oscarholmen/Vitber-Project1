{
 "cells": [
  {
   "cell_type": "markdown",
   "metadata": {
    "cell_id": "ac3c1046-b5b0-40ab-abb9-54e8634d8e60",
    "deepnote_cell_type": "text-cell-h1",
    "is_collapsed": false,
    "tags": []
   },
   "source": [
    "# Impact of multivalency in the formation of cellular membrane-less organelles"
   ]
  },
  {
   "cell_type": "markdown",
   "metadata": {
    "cell_id": "6021cb80-5a09-4d68-8f9b-82568d4804c3",
    "deepnote_cell_type": "markdown",
    "tags": []
   },
   "source": [
    "In this project, we simulate the interactions between monomers and polymers. The final goal is to simulate a probable behavior of a polymer system. A monomer, in our project, is a small, charged unit coupled up by covalent bonds, that may connect to other similar monomers. A collection of monomers is called a polymer. The system we simulate contains polymers of opposite charge. The polymers will try to move in a way that decreases the total energy of the system, resulting in a more stable state. For the first part of the project, we simulate a system that only contain monomers. In the second part, we expand our code to simulate a system of polymers as described above. Furthermore, the simulation is constructed by the Markov-Chain Monte Carlo algorithm in python. How the project was solved will be presented as we go.\n"
   ]
  },
  {
   "cell_type": "markdown",
   "metadata": {
    "cell_id": "a717a4dc-dac4-4cf9-8fbe-5d0b9488664a",
    "deepnote_cell_type": "text-cell-h2",
    "is_collapsed": false,
    "tags": []
   },
   "source": [
    "## Code"
   ]
  },
  {
   "cell_type": "markdown",
   "metadata": {
    "cell_id": "b3a3e554-9b69-47ec-94a2-f5eb18486022",
    "deepnote_cell_type": "text-cell-h3",
    "is_collapsed": false,
    "tags": []
   },
   "source": [
    "### Installing modules "
   ]
  },
  {
   "cell_type": "code",
   "execution_count": 2,
   "metadata": {
    "cell_id": "00001-f8dc4c11-f700-4414-bd47-7c7ba1778204",
    "deepnote_cell_type": "code",
    "deepnote_to_be_reexecuted": false,
    "execution_millis": 2325,
    "execution_start": 1644828603555,
    "source_hash": "c5b40428"
   },
   "outputs": [],
   "source": [
    "# Imports used modules\n",
    "import numpy as np\n",
    "import matplotlib.pyplot as plt\n",
    "import random\n",
    "from matplotlib.colors import ListedColormap, TwoSlopeNorm, BoundaryNorm\n",
    "from matplotlib.cm import ScalarMappable\n",
    "import time \n",
    "\n",
    "while True:\n",
    "    try:\n",
    "        # Imports Numba\n",
    "        from numba import jit\n",
    "        from numba.core.errors import NumbaDeprecationWarning, NumbaPendingDeprecationWarning\n",
    "        import warnings\n",
    "\n",
    "        # Remove annoying deprecation warnings\n",
    "        warnings.simplefilter('ignore', category=NumbaDeprecationWarning)\n",
    "        warnings.simplefilter('ignore', category=NumbaPendingDeprecationWarning)\n",
    "    except:\n",
    "        # If numba is not installed, installs numba and tries again\n",
    "        %pip install numba\n",
    "        continue\n",
    "    break"
   ]
  },
  {
   "cell_type": "markdown",
   "metadata": {
    "cell_id": "6d7d1261-a721-4c12-ae76-c04f064b6f63",
    "deepnote_cell_type": "text-cell-h3",
    "is_collapsed": false,
    "tags": []
   },
   "source": [
    "### Defining constants "
   ]
  },
  {
   "cell_type": "code",
   "execution_count": 3,
   "metadata": {
    "cell_id": "00003-68ebab67-abb8-426e-be10-1cd6aca7eb80",
    "deepnote_cell_type": "code",
    "deepnote_to_be_reexecuted": false,
    "execution_millis": 5,
    "execution_start": 1644828605890,
    "source_hash": "46fe1800"
   },
   "outputs": [],
   "source": [
    "kB = 1.38E-23    # Boltzmann constant\n",
    "\n",
    "e = 1.60E-19    # Elementary\n",
    "epsilon_0 = 8.85E-12    # Vacuum permitivity\n",
    "epsilon_r = 78    # Relative permitivity\n",
    "a_monomer = 23E-6    # Distance between monomers\n",
    "a_polymer = 91E-6    # Distance between polymers\n",
    "\n",
    "\n",
    "alpha_monomer = e**2 / (4*np.pi*epsilon_0*epsilon_r*a_monomer**2)    # Value of the energy constant alpha, used with monomers\n",
    "alpha_polymer = e**2 / (4*np.pi*epsilon_0*epsilon_r*a_polymer**2)   # Value of the energy constant alpha, used with polymers"
   ]
  },
  {
   "cell_type": "markdown",
   "metadata": {
    "cell_id": "031b4b2d-a622-4422-a082-6a010ca6a701",
    "deepnote_cell_type": "text-cell-h3",
    "is_collapsed": false,
    "tags": []
   },
   "source": [
    "### Grid making functions "
   ]
  },
  {
   "cell_type": "markdown",
   "metadata": {
    "cell_id": "6ad4d5bc-e862-4c41-80dc-ada53777cfe1",
    "deepnote_cell_type": "markdown",
    "tags": []
   },
   "source": [
    "<a id='generate_monomers'></a>"
   ]
  },
  {
   "cell_type": "code",
   "execution_count": 4,
   "metadata": {
    "cell_id": "00005-c55d7c80-2996-4923-a64b-8e7d9606e835",
    "deepnote_cell_type": "code",
    "deepnote_to_be_reexecuted": false,
    "execution_millis": 49,
    "execution_start": 1644828605969,
    "source_hash": "84418c45"
   },
   "outputs": [],
   "source": [
    "# Generates a grid with shape N x N, with M positive and M negative unique monomers\n",
    "@jit(nopython=True)\n",
    "def generate_grid_of_monomers(N, M):\n",
    "    grid = np.zeros(N**2, dtype=np.int32)   # Creates an array 1D, that will be reshaped later to 2D\n",
    "    indicis = np.arange(0, N**2, 1)   # Creates an array with all indicies in the grid\n",
    "    np.random.shuffle(indicis)   # Shuffels the indicies, so that they come in a random order\n",
    "\n",
    "    monomer_indicis = indicis[:M*2]  # Picks 2*M indicis which will become monomers. M positive and M negative.\n",
    "    monomer_values = np.arange(1, M+1)    # Creates and array which will give unique values for each monomer.\n",
    "\n",
    "    grid[monomer_indicis[:M]] = monomer_values   # Places the positive charge in grid\n",
    "    \n",
    "    grid[monomer_indicis[M:]] = -monomer_values # Places the negative charge in grid\n",
    "\n",
    "    grid = np.reshape(grid, (N, N)) #Reshapes the list to NxN matrix\n",
    "    return grid   # Returns the N x N grid with the monomers placed randomly\n",
    "\n",
    "# Finds the 2D cardinal neighbors for index p, if the grid where to be reshaped from N**2 to N x N.\n",
    "@jit(nopython=True)\n",
    "def get_2D_neighbor_in_1D(p, N):\n",
    "    p = int(p)    # Indicis must be integers\n",
    "    x = p % N   # Finds the column index of p\n",
    "    y = p // N # Finds the row index of p\n",
    "    return (\n",
    "        ((y-1)%N)*N + x, # North index\n",
    "        N*y + (x-1)%N, # West index\n",
    "        ((y+1)%N)*N + x, # South index\n",
    "        N*y + (x+1)%N # East index\n",
    "    )\n",
    "\n",
    "# For the given 1D grid, places randomly a polymer with multivalency L and with the charge/polymer value of charge.\n",
    "# NOTE: Edits the original copy off the given grid\n",
    "@jit(nopython=True)\n",
    "def generate_polymer(grid, N, L, charge):\n",
    "    polymer_monomerPositions = np.zeros(int(L), dtype=np.int64)    # An array which will contain the indicies of all the monomers which will make up the polymer\n",
    "    neighbors_all_monomers = np.empty(0)    # An array with indicies of the neighbors of the polymer being generated\n",
    "    polymer_monomerPositions[0] = np.random.choice(np.arange(0,N**2)[np.where(grid == 0)], size=(1))[0]    # Places the first monomer randomly, in a position which is vacant\n",
    "    for i in range(1, L):    # L - 1 iterations, one for each monomer not yet placed\n",
    "        for a in get_2D_neighbor_in_1D(polymer_monomerPositions[i-1], N):    # Finds the neighbors of the newest polymer, and iterates through them\n",
    "            if grid[a] == 0 and not (polymer_monomerPositions == a).any():    # Checks to see if the index is vacant\n",
    "                neighbors_all_monomers = np.append(neighbors_all_monomers, a)    # If vacant, appends the index to the array\n",
    "        if len(neighbors_all_monomers) == 0:    # If there are no vacant indcies left, the polymer generation fails\n",
    "            return False\n",
    "        \n",
    "        neighbors_all_monomers = np.unique(neighbors_all_monomers)    # Removes redundant copies of indicies, such that every index listed is unique\n",
    "        \n",
    "        j = np.random.choice(np.arange(len(neighbors_all_monomers)), size=(1))[0]    # Picks a random index from all eligible monomer placments\n",
    "        polymer_monomerPositions[i] = neighbors_all_monomers[j]    # Records the index picked\n",
    "        neighbors_all_monomers = np.delete(neighbors_all_monomers, j)    # Removes the index from the array possible future placements of monomers\n",
    "\n",
    "    for monomer_pos in polymer_monomerPositions:    # Iterates through all generated monomer indicies\n",
    "        grid[int(monomer_pos)] = charge    # Places them in the grid, all with the same charge\n",
    "    \n",
    "    return True     # The polymer generation was successfull\n",
    "\n",
    "# Generates a grid with shape N x N, with M positive and M negative unique polymers with multivalency L\n",
    "@jit(nopython=True)\n",
    "def generate_grid_of_polymers(N, M, L):\n",
    "    N = int(N)\n",
    "    generated = False     # A boolean which will becom True if the generation is successfull\n",
    "    iterations = 0    # Records the amount of failed attempts to generate the grid\n",
    "    while not generated:\n",
    "        iterations += 1     # Records the attempt\n",
    "        grid = np.zeros(N**2)    # Initilizez a 1D grid with length N^2, which will later be reshaped to N x N.\n",
    "        generated = True\n",
    "        for i in range(1, int(M+1)):     # Iterates the polymer generation process M times.\n",
    "            # With each iteration both a negative and postive polymer is generated\n",
    "            if generate_polymer(grid, N, L, i) and generate_polymer(grid, N, L, -i):     # If both are successfull it continues\n",
    "                continue\n",
    "            else:    # If one of them fails, the whole attempt is scrapped\n",
    "                generated = False     # Changes the bool back to False, so that the while loop can continue\n",
    "                break    # Exits the for loop\n",
    "        if iterations == 20:      # If the generation process fails 20 times, the function itself will fail\n",
    "            raise ValueError(\"Number of iterations exceeded limit\")\n",
    "    return np.reshape(grid, (N, N))    # Returns the grid reshaped to N x N"
   ]
  },
  {
   "cell_type": "markdown",
   "metadata": {
    "cell_id": "3392a950-b784-4cde-8aa4-544df116b226",
    "deepnote_cell_type": "text-cell-h3",
    "is_collapsed": false,
    "tags": []
   },
   "source": [
    "### Functions to handle grids and get information from grids"
   ]
  },
  {
   "cell_type": "markdown",
   "metadata": {},
   "source": [
    "<a id='total_energy_grid'></a>"
   ]
  },
  {
   "cell_type": "code",
   "execution_count": 5,
   "metadata": {
    "cell_id": "00007-30be91ce-d24e-4b73-b62b-60da9d592b44",
    "deepnote_cell_type": "code",
    "deepnote_to_be_reexecuted": false,
    "execution_millis": 1,
    "execution_start": 1644828606061,
    "source_hash": "55dd9abf"
   },
   "outputs": [],
   "source": [
    "# Finds the indicies of the neighbors for the point given by (i, j) in the 2D grid with shape N x N\n",
    "@jit(nopython=True)\n",
    "def get_neighbors_coordinates(N, i, j):\n",
    "    # [\n",
    "    #     [X, N, X]\n",
    "    #     [W, V, E]\n",
    "    #     [X, S, X]\n",
    "    # ]\n",
    "    # V is the point with indicis i, j\n",
    "    # Returns a list with the coordinates of the neighbors: [N, W, S, E]\n",
    "    neighbor_coordinates = np.array([\n",
    "        [i-1, j],    # North\n",
    "        [i, j-1],    # West\n",
    "        [i+1, j],    # South\n",
    "        [i, j+1]     # East\n",
    "    ])\n",
    "\n",
    "    return neighbor_coordinates % N     # Returns the coordinates, with torus boundary conditions of the grid\n",
    "\n",
    "# np.roll function equivalent which works with numba for 2D grids\n",
    "# Rolls the grid along the axis given by the amount shift\n",
    "# NOTE: Negative values shift in the oppisite direction\n",
    "@jit(nopython=True)\n",
    "def numba_roll(grid, shift, axis):\n",
    "    out = np.zeros(grid.shape)     # Initilizes the output grid\n",
    "    # Checks axis which is being rolled\n",
    "    if axis == 0:     # If axis == 0, the rows are being rolled\n",
    "        for i in range(grid.shape[0]):     # Iterates through every row\n",
    "            out[i] = np.roll(grid[i], shift)      # Rolls the row with index i\n",
    "    else:      # If the axis is 1, the columns are being rolled\n",
    "        for i in range(grid.shape[1]):     # Iterates through every column\n",
    "            out[:,i] = np.roll(grid[:,i], shift)      # Rolls the column with index i\n",
    "    return out     # Returns the rolled grid, without changes to the original grid\n",
    "\n",
    "# Finds the energy of a grid of monomers\n",
    "# NOTE: If used with polymer grids, it will treat every monomer the same, without regards for the polymer which it originates\n",
    "@jit(nopython=True)\n",
    "def total_energy_grid(grid):\n",
    "    charge_grid = np.sign(grid)      # Creates a copy of the grid, but with every charge being of size +-1\n",
    "    # To find the energy of a monomer, the charge of the monomer is multiplied with the charge of all neighbor monomer charges:\n",
    "    # V_monomer = charge_monomer(charge_north + charge_south + charge_west + charge_east)\n",
    "    # V_monomer = charge_monomer(Sum of neighbor charges)\n",
    "    # This operation needs to be done for every monomer.\n",
    "    # The the sum of neighbor charges can be expressed as a matrix, where every sum is given the same index as its corresponding monomer charge.\n",
    "    # Then by multipliying element-wise the matrix of charges and the sum charges, every monomer energy is found\n",
    "    charge_sum = np.zeros(grid.shape) \n",
    "    for rolled_grid in (\n",
    "        numba_roll(charge_grid, 1, 0),      # The North neighbor charges\n",
    "        numba_roll(charge_grid, -1, 0),     # The South neighbor charges\n",
    "        numba_roll(charge_grid, 1, 1),      # The West neighbor charges\n",
    "        numba_roll(charge_grid, -1, 1)      # The East neighbor charges\n",
    "    ): charge_sum += rolled_grid     # Sums the neighbor grids\n",
    "    return np.sum(charge_grid * charge_sum)/2     # Returns the sum of all monomer energy values dividied by two, since every energy pair is counted twice.\n",
    "\n",
    "\n",
    "#This function detects where the matrix has nonzero-elements, and returns its coordinates\n",
    "@jit(nopython=True)\n",
    "def get_polymers(grid):\n",
    "    polymer_values = np.unique(grid) #Gathers all the polymer values in the grid\n",
    "    for indicis in np.where(polymer_values == 0):\n",
    "        polymer_values = np.delete(polymer_values, indicis) \n",
    "    \n",
    "    return polymer_values\n",
    "\n",
    "\n",
    "@jit(nopython=True)\n",
    "def count_monomers(grid):\n",
    "    return int(np.sum(np.sign(np.abs(get_polymers(grid)))))\n",
    "\n",
    "#This function choses a random polymer from the grid, and returns its coordinates\n",
    "@jit(nopython=True)\n",
    "def get_polymer_indicis(grid, polymer_value):\n",
    "    polymer_indicis = np.where(grid == polymer_value)\n",
    "    \n",
    "    indicis_array = np.zeros((len(polymer_indicis[0]), 2), dtype=np.int32)\n",
    "    for i in range(len(polymer_indicis[0])):\n",
    "        indicis_array[i, 0] = polymer_indicis[0][i]\n",
    "        indicis_array[i, 1] = polymer_indicis[1][i]\n",
    "    return np.transpose(indicis_array)\n",
    "\n",
    "# Returns a random cardinal direction\n",
    "@jit(nopython=True)\n",
    "def random_direction():\n",
    "    l = [\n",
    "        (-1, 0),\n",
    "        (0, -1),\n",
    "        (1, 0),\n",
    "        (0, 1)\n",
    "    ]\n",
    "    return l[np.random.choice(np.array([0, 1, 2, 3]), size=(1))[0]]\n",
    "\n",
    "# In the grid given, updates the position of a polymer\n",
    "@jit(nopython=True)\n",
    "def move_polymer(grid, prev_pos, new_pos, polymer_value):\n",
    "    for i in range(np.shape(prev_pos)[1]):\n",
    "        x0 = prev_pos[1, i]\n",
    "        y0 = prev_pos[0, i]\n",
    "        grid[y0, x0] = 0\n",
    "    for i in range(np.shape(prev_pos)[1]):\n",
    "        y = new_pos[0, i]\n",
    "        x = new_pos[1, i]\n",
    "        grid[y, x] = polymer_value[0]\n",
    "\n",
    "# This function checks if the new position of a polymer is legal, i.e. checks if the new positions are occupied by 0 or the polymer value\n",
    "# Returns True or False with regards of the legality of the move\n",
    "@jit(nopython=True)\n",
    "def legal_move(grid, new_position, polymer_value):\n",
    "    for i in range(len(new_position[0])):\n",
    "        y = int(new_position[0, i])\n",
    "        x = int(new_position[1, i])\n",
    "        p = grid[y, x]\n",
    "        if p == 0 or p == polymer_value: #only returns False if the new position is neither 0 nor the polymer value\n",
    "            continue\n",
    "        return False\n",
    "    return True\n",
    "\n",
    "# This function inputs the previous position of a polymer and finds the new indices of the new position\n",
    "@jit(nopython=True)\n",
    "def get_new_polymer_pos(polymer_indicis, direction, N):\n",
    "    movement = np.zeros(np.shape(polymer_indicis), dtype=np.int32)\n",
    "    movement[0, :] = direction[0]\n",
    "    movement[1, :] = direction[1]\n",
    "    return (polymer_indicis + movement) % N\n",
    "\n",
    "# Finds the total energy of the system\n",
    "# Is_polymer = False: Finds the monomer energy\n",
    "# Is_polymer = True: Finds the polymer energy\n",
    "@jit(nopython=True)\n",
    "def total_energy_polymer(grid, is_polymer=True):\n",
    "    if not is_polymer:\n",
    "        return total_energy_grid(grid)    # Returns monomer energy\n",
    "\n",
    "    charge_grid = np.sign(grid)    # Grid with only the charges, regardless of polymer\n",
    "    other_grid = np.zeros(grid.shape)    # Grid to contain the sum of neighbor charges for every monomer, unless they are from the same polymer\n",
    "    l = [    # List of cardinal directions\n",
    "        (-1, 0),\n",
    "        (1, 0),\n",
    "        (-1, 1),\n",
    "        (1, 1)\n",
    "    ]\n",
    "    for i in range(4):\n",
    "        direction = l[i]     # Picks a cardinal direction\n",
    "        rolled_grid = numba_roll(grid, direction[0], direction[1])     # Rolls the grid, so every monomer has the same position as their neighbor in the given cardinal direction\n",
    "        other_grid += np.sign(np.where(rolled_grid != grid, rolled_grid, np.zeros_like(rolled_grid)))     # Checks if the monomer is from the same polymer as their neighbor, and sums the neighbor charges if they are not\n",
    "    \n",
    "    # Multiplies the sum of charges and the monomer charges element wise\n",
    "    # Summates every energy contribution\n",
    "    # Returns the sum divided by two, since every energy contribution is counted twice. (Neighbor-Monomer energy comes in pairs)\n",
    "    return np.sum(charge_grid * other_grid)/2     \n",
    "\n",
    "# The move function for monomers, and rigid polymer movement.\n",
    "# direction: Cardinal direction of the movement\n",
    "# polymer_value: The polymer in question which is being moved\n",
    "# N: Dimension of the grid (N x N)\n",
    "@jit(nopython=True)\n",
    "def monomer_move(prev_grid, direction, polymer_value, N):\n",
    "    polymer_indicis = get_polymer_indicis(prev_grid, polymer_value)    # Finds the indicies for all monomers in a polymer/monomer\n",
    " \n",
    "    new_position = get_new_polymer_pos(polymer_indicis, direction, N)    # Finds the new indicies for the moved polymer\n",
    "\n",
    "    if not legal_move(prev_grid, new_position, polymer_value):     # Checks if the move was legal\n",
    "        return prev_grid, False     # Returns a copy of the grid unchanged if not legal, and False\n",
    "    grid = prev_grid.copy()    # Creates a copy of the grid, so that the original is unchanged\n",
    "    move_polymer(grid, polymer_indicis, new_position, polymer_value)    # Moves the polymer\n",
    "    return grid, True     # Returns the grid, with the polymer moved, and True"
   ]
  },
  {
   "cell_type": "markdown",
   "metadata": {
    "cell_id": "9e53efba-f5e7-4717-827f-706611589c7a",
    "deepnote_cell_type": "text-cell-h3",
    "is_collapsed": false,
    "tags": []
   },
   "source": [
    "### Visualization "
   ]
  },
  {
   "cell_type": "markdown",
   "metadata": {},
   "source": [
    "<a id='visualize_grid'></a>"
   ]
  },
  {
   "cell_type": "code",
   "execution_count": 6,
   "metadata": {
    "cell_id": "00009-b8e0299c-d9cc-474b-9c1e-ccde8f690ac1",
    "deepnote_cell_type": "code",
    "deepnote_output_heights": [
     441,
     441,
     445
    ],
    "deepnote_to_be_reexecuted": false,
    "execution_millis": 7,
    "execution_start": 1644828606074,
    "source_hash": "aa580ef7"
   },
   "outputs": [],
   "source": [
    "# Input a list of grids and titles, and plots them accordingly\n",
    "def visualize_grid(grids, title=None):\n",
    "\n",
    "    if type(grids) is not list:\n",
    "        if type(grids) is tuple:\n",
    "            grids = list(grids)\n",
    "        else:\n",
    "            grids = [grids]\n",
    "    if type(title) is not list and title is not None:\n",
    "        if type(title) is tuple:\n",
    "            title = list(title)\n",
    "        else:\n",
    "            title = [title]\n",
    "    n = len(grids)\n",
    "\n",
    "    fig, axes = plt.subplots(2, n, figsize=(7*n, 7.5), gridspec_kw={'height_ratios': [7, 0.5]})\n",
    "\n",
    "    for i in range(n):\n",
    "        if n == 1:\n",
    "            ax = axes[0]\n",
    "            cax = axes[1]\n",
    "        else:\n",
    "            ax = axes[0][i]\n",
    "            cax = axes[1][i]\n",
    "\n",
    "        bounds = list(np.sort(get_polymers(grids[i])))\n",
    "\n",
    "        if np.min(bounds) < 0:\n",
    "            cmap = plt.cm.seismic\n",
    "            norm=TwoSlopeNorm(vcenter=0.)\n",
    "            cbar_norm = BoundaryNorm(sorted([0] + bounds), cmap.N)\n",
    "            \n",
    "            ax.pcolormesh(grids[i][::-1], cmap=cmap, norm=norm)\n",
    "\n",
    "            fig.colorbar(ScalarMappable(norm=cbar_norm, cmap=cmap),\n",
    "                        cax=cax, orientation='horizontal',\n",
    "                        label=\"\")\n",
    "        else:\n",
    "            grids[i] = np.ma.masked_where(grids[i] == 0, grids[i])\n",
    "            cmap = plt.cm.get_cmap(\"brg\")\n",
    "            cmap.set_bad(color=\"white\")\n",
    "            norm = BoundaryNorm(bounds + [bounds[-1] + 1], cmap.N)\n",
    "            cbar_norm = norm\n",
    "            \n",
    "            ax.pcolormesh(grids[i][::-1], cmap=cmap, norm=norm)\n",
    "\n",
    "            fig.colorbar(ScalarMappable(norm=cbar_norm, cmap=cmap),\n",
    "                        cax=cax, orientation='horizontal',\n",
    "                        label=\"\", ticks=bounds)\n",
    "\n",
    "        ax.tick_params(left = False, right = False , labelleft = False , labelbottom = False, bottom = False)\n",
    "        ax.grid(False)\n",
    "\n",
    "        if len(bounds) > 60:\n",
    "            cbarx[i].set_ticks([])\n",
    "\n",
    "\n",
    "        if title is not None:\n",
    "            ax.set_title(title[i])\n",
    "\n",
    "    plt.show()"
   ]
  },
  {
   "cell_type": "markdown",
   "metadata": {
    "cell_id": "8d27e0ee-9360-484c-b42f-a2d722a1fbb8",
    "deepnote_cell_type": "text-cell-h3",
    "is_collapsed": false,
    "tags": []
   },
   "source": [
    "### Clustering"
   ]
  },
  {
   "cell_type": "markdown",
   "metadata": {
    "cell_id": "9a7b2e5f-be87-4991-9947-c1e2260e7c30",
    "deepnote_cell_type": "markdown",
    "tags": []
   },
   "source": [
    "<a id='clustering'></a>"
   ]
  },
  {
   "cell_type": "code",
   "execution_count": 7,
   "metadata": {
    "cell_id": "00011-345c0df9-ee70-4e77-a553-c02ebdd9fabd",
    "deepnote_cell_type": "code",
    "deepnote_to_be_reexecuted": false,
    "execution_millis": 1,
    "execution_start": 1644828606121,
    "source_hash": "4f64ca6e"
   },
   "outputs": [],
   "source": [
    "# A np.delete equivalent that works with numba. Deletes a row with index [row]\n",
    "@jit(nopython=True)\n",
    "def delete_workaround(arr, row):\n",
    "    shape = np.shape(arr)\n",
    "    newArr = np.zeros((shape[0]-1, shape[1]), dtype=np.int32)\n",
    "    for i in range(row):\n",
    "        newArr[i] = arr[i]\n",
    "    for i in range(row, shape[0]-1):\n",
    "        newArr[i] = arr[i + 1]\n",
    "    \n",
    "    return newArr\n",
    "\n",
    "# Changes the the given point(i, j) in the grid to the new cluster value\n",
    "# Checks if there are any neighbors which are not part of a cluster yet, and uses recursion to add the relevant neighbors to the cluster\n",
    "@jit(nopython=True)\n",
    "def cluster_recursion(grid, cluster_value, N, i, j):\n",
    "    grid[i, j] = cluster_value\n",
    "    neighbors = get_neighbors_coordinates(N, i, j)\n",
    "    for ni, nj in neighbors:\n",
    "        if grid[ni, nj] == -1:\n",
    "            grid = cluster_recursion(grid, cluster_value, N, ni, nj)\n",
    "    return grid     # Returns the grid with the finished cluster, when no neighbors are left\n",
    "\n",
    "# Returns a copy of the grid, with every cluster of monomers/polymers now connected (With a unique cluster value for every cluster)\n",
    "@jit(nopython=True)\n",
    "def cluster_grid(prev_grid, N):\n",
    "    grid = -np.sign(np.abs(prev_grid.copy()))     # Creates grid with only -1 in every monomer position\n",
    "    done = False    # When done is True, exits the loop\n",
    "    cluster_value = 1    # Starts the cluster values at 1, and increments for every new cluster\n",
    "    while not done:\n",
    "        done = True\n",
    "        i, j = np.transpose(get_polymer_indicis(grid, -1))[0]     # Picks a monomer which is not part of a cluster yet\n",
    "        grid = cluster_recursion(grid, cluster_value, N, i, j)    # Grows the cluster from the initial monomer\n",
    "        if (grid == -1).any():    # Checks if there is any monomer not in a cluster yet\n",
    "            done = False\n",
    "            cluster_value += 1    # Increments the cluster value by 1\n",
    "    return np.abs(grid)    # Returns the finished cluster grid. \n",
    "# NOTE: Weird bugs when visualizing the cluster grid, because of -0 values\n",
    "# Therefore returns the absolute value of the grid to circumvent the issue"
   ]
  },
  {
   "cell_type": "markdown",
   "metadata": {
    "cell_id": "6976cdb3-a5c9-4b0e-8aa0-0a1420882032",
    "deepnote_cell_type": "text-cell-h3",
    "is_collapsed": false,
    "tags": []
   },
   "source": [
    "### Polymer movement"
   ]
  },
  {
   "cell_type": "code",
   "execution_count": 8,
   "metadata": {
    "cell_id": "00013-a193937c-e0a0-4d46-ba07-593c73502ef9",
    "deepnote_cell_type": "code",
    "deepnote_to_be_reexecuted": false,
    "execution_millis": 1,
    "execution_start": 1644828606122,
    "source_hash": "120af64e"
   },
   "outputs": [],
   "source": [
    "# Moves a row/column of a polymer with the medium flexible rulesset\n",
    "# Shift is the amount being moved, with signs indicating the direction of movement\n",
    "@jit(nopython=True)\n",
    "def row_move(prev_row, shift, polymer_value, N):\n",
    "    row = prev_row.copy()    # Creates a copy of the row/column, incase the move is not legal\n",
    "    # for j in range(N):    # Iterates through the row/column\n",
    "    #     if row[j] == polymer_value:    # Checks if the point is part of the polymer\n",
    "    #         row[j] = 0    # Sets the index to zero, since the monomer is moved\n",
    "    row = np.where(row != polymer_value, row, np.zeros_like(row))    # Sets removes the polymer from the row/column\n",
    "    for j in range(N):    # Iterates through the row/column\n",
    "        if prev_row[j] == polymer_value:    # If the postion used to be a part of the polymer\n",
    "            if prev_row[(j + shift)%N] == 0.0 or prev_row[(j + shift)%N] == polymer_value:    # Checks if the new monomer position is unoccupied\n",
    "                row[(j + shift)%N] = polymer_value\n",
    "            else:\n",
    "                return prev_row\n",
    "\n",
    "    return row\n",
    "# Checks if the polymer of the given value is broken\n",
    "# It accomplishes this by clustering a grid with only the the monomers for the given value.\n",
    "# If more then one cluster is generated, the polymer is considered broken, and returns a bool accordingly\n",
    "@jit(nopython=True)\n",
    "def check_if_broken_polymer(grid, polymer_value, N):\n",
    "    if np.sum(np.unique(cluster_grid(np.where(grid == polymer_value, grid, np.zeros_like(grid)), N))) != 1:\n",
    "        return True\n",
    "    return False\n",
    "\n",
    "#Medium Flexible Move\n",
    "@jit(nopython=True)\n",
    "def medium_flexible_move(prev_grid, direction, polymer_value, N):\n",
    "    grid = prev_grid.copy() #Creates a copy of the matrix \n",
    "    \n",
    "    if np.abs(direction[1]) == 1: #Check if the move is\n",
    "        shift = direction[1]\n",
    "        for i in range(len(grid[0])):\n",
    "            grid[i] = row_move(grid[i], shift, polymer_value, N)\n",
    "\n",
    "    elif np.abs(direction[0]) == 1:\n",
    "        shift = direction[0]\n",
    "        for i in range(len(grid[0])):\n",
    "            grid[:,i] = row_move(grid[:,i], shift, polymer_value, N)\n",
    "\n",
    "    if check_if_broken_polymer(grid, polymer_value, N):\n",
    "        return prev_grid, False\n",
    "    return grid, True"
   ]
  },
  {
   "cell_type": "markdown",
   "metadata": {
    "cell_id": "0738211c-f2e1-438e-9075-93bdf7421ad0",
    "deepnote_cell_type": "text-cell-h3",
    "is_collapsed": false,
    "tags": []
   },
   "source": [
    "### Simulation"
   ]
  },
  {
   "cell_type": "code",
   "execution_count": 9,
   "metadata": {
    "cell_id": "00015-6d001e20-7d52-43a7-b6d7-a63aa22138db",
    "deepnote_cell_type": "code",
    "deepnote_to_be_reexecuted": false,
    "execution_millis": 21,
    "execution_start": 1644839511867,
    "source_hash": "53166ac2"
   },
   "outputs": [],
   "source": [
    "# Moves a given polymer with the movement ruleset of choice, in the direction given\n",
    "@jit(nopython=True)\n",
    "def move_functions(grid, direction, polymer_value, N, movement):\n",
    "    if movement == \"monomer\":\n",
    "        return monomer_move(grid, direction, polymer_value, N)\n",
    "    elif movement == \"medium_flex\":\n",
    "        return medium_flexible_move(grid, direction, polymer_value[0], N)\n",
    "    elif movement == \"rigid\":\n",
    "        return monomer_move(grid, direction, polymer_value, N)\n",
    "\n",
    "# The Monte Carlo algorithm\n",
    "# Inputs a grid and returns a copy of the grid after being simulated with the parameters:\n",
    "# T: Temperature\n",
    "# Steps: Number of stesp\n",
    "# movement: The movement rulset in question\n",
    "@jit(nopython=True)\n",
    "def monte_carlo(grid, steps, T, movement=\"monomer\"):\n",
    "    # Different functions are used to measure the energy of the system with monomers and polymers\n",
    "    # alpha is therefore defined accordingly, and changes the is_polymer bool accordingly\n",
    "    if movement == \"monomer\":\n",
    "        alpha = alpha_monomer\n",
    "        is_polymer = False\n",
    "    else:\n",
    "        alpha = alpha_polymer\n",
    "        is_polymer = True\n",
    "    \n",
    "    # Defines the beta constant for the given temperature\n",
    "    beta = 1 / (kB * T)\n",
    "    # Finds the dimension of the N x N grid\n",
    "    N = np.shape(grid)[0]\n",
    "    \n",
    "    # Finds the initial energy of the system\n",
    "    energy = total_energy_polymer(grid, is_polymer)\n",
    "\n",
    "    # Initializes an array to contain the energy of every step\n",
    "    epsilon = np.zeros(steps)\n",
    "\n",
    "    # Finds the polymer values in the grid\n",
    "    polymer_values = get_polymers(grid)\n",
    "    for i in range(steps):\n",
    "        # Records the previous energy\n",
    "        epsilon[i] = energy\n",
    "\n",
    "        # Picks a random polymer to move\n",
    "        polymer_value = np.random.choice(polymer_values, size=(1))\n",
    "\n",
    "        # Picks a random direction to mvoe\n",
    "        direction = random_direction() #array \n",
    "        \n",
    "        # Finds the grid if the movement where to go through, and a bool to check if the movement is legal\n",
    "        new_grid, legal_bool = move_functions(grid, direction, polymer_value, N, movement)\n",
    "        \n",
    "        # If the movement is legal, calculates the new energy of the system\n",
    "        if legal_bool:\n",
    "            new_energy = total_energy_polymer(new_grid, is_polymer)\n",
    "\n",
    "            # If the energy is lowered, the new grid is accepted and the energy is recorded at the start of the next loop\n",
    "            if new_energy < energy:\n",
    "                grid = new_grid\n",
    "                energy = new_energy\n",
    "            # If the new energy is higher, there is still a probability that the system will change state regardless\n",
    "            # The probabilty is given by the number of states, the temperature and the delta energy\n",
    "            elif random.uniform(0, 1) < np.exp(-beta*(new_energy - energy)*alpha):\n",
    "                grid = new_grid\n",
    "                energy = new_energy\n",
    "                \n",
    "    # Records the final energy, and returns the final grid and all the energy values\n",
    "    epsilon[steps-1] = energy\n",
    "    return grid, epsilon\n",
    "\n",
    "# A function to simluate monomer movement\n",
    "def run_simulation_monomers(N, M, steps, T, show_grid=False, save=False):\n",
    "    grid = generate_grid_of_monomers(N, M)\n",
    "    new_grid, epsilon = monte_carlo(grid, steps, T)\n",
    "    if show_grid:\n",
    "        visualize_grid([grid, new_grid], title=(f\"Before\\nN = {N}, M = {M}, T = {T}\",f\"After\\nN = {N}, M = {M}, T = {T}\"))\n",
    "    if __name__ == '__main__':\n",
    "        length = len(epsilon)\n",
    "        x = [a for a in range(length)]\n",
    "        fig, ax = plt.subplots()\n",
    "        ax.plot(x, epsilon)\n",
    "        ax.set_title(f\"Energy for {N} x {N} grid with {M} positive and negative monomers\")\n",
    "        ax.set_ylabel(\"Joule/alpha\")\n",
    "        plt.show()\n",
    "    if save:\n",
    "        np.savez(f\"gridT_{T}\", new_grid=new_grid)"
   ]
  },
  {
   "cell_type": "markdown",
   "metadata": {
    "cell_id": "d8c4cbf9-a08f-491a-a9ee-134dbbcce8fd",
    "deepnote_cell_type": "text-cell-h3",
    "is_collapsed": false,
    "tags": []
   },
   "source": [
    "### Cluster simulation"
   ]
  },
  {
   "cell_type": "markdown",
   "metadata": {
    "cell_id": "fcc926cb-0141-4ba8-8004-42d4ab80f95c",
    "deepnote_cell_type": "markdown",
    "tags": []
   },
   "source": [
    "<a id='cluster_sim'></a>"
   ]
  },
  {
   "cell_type": "code",
   "execution_count": 10,
   "metadata": {
    "cell_id": "00017-4ac47339-c63c-402a-89f1-27e29f55701e",
    "deepnote_cell_type": "code",
    "deepnote_output_heights": [
     null,
     280,
     280
    ],
    "deepnote_to_be_reexecuted": false,
    "execution_millis": 0,
    "execution_start": 1644828606193,
    "source_hash": "cf83afdc"
   },
   "outputs": [],
   "source": [
    "# Returns a number of steps befitting the given temperature, and temperature range\n",
    "@jit(nopython=True)\n",
    "def get_steps(T, T_l, t_max = 100000, s = 1/200, C = 10000):\n",
    "    return int(\n",
    "        t_max * np.exp(-s*(T - T_l)) + C\n",
    "    )\n",
    "\n",
    "# Runs the monte carlo alogrithm and calculates the mean cluster size, for every 1000 steps.\n",
    "@jit(nopython=True)\n",
    "def cluster_size_of_T(T, T_l, N=15, M=25, n = 100):\n",
    "    t_max = 300000\n",
    "    t_equil = get_steps(T, T_l, t_max)\n",
    "    t_r = 1000\n",
    "    # Stores every measured cluster amount, and is used to calculate the mean cluster size\n",
    "    cluster_amount = np.zeros((n))\n",
    "\n",
    "    # Generates a grid which will be simulated\n",
    "    grid = generate_grid_of_monomers(N, M)\n",
    "    grid, epsilon = monte_carlo(grid, t_equil, T) # Runs the Monte Carlo until equilibrium is approximately reached\n",
    "    for i in range(n): # Runs the algorithm for t_r steps, n times\n",
    "        grid, epsilon = monte_carlo(grid, t_r, T)\n",
    "        # Turns the grid of monomers into a grid of clusters\n",
    "        cluster = cluster_grid(grid, N) \n",
    "        # Counts the number of clusters, and records the value in the array\n",
    "        cluster_amount[i] =  np.sum(np.sign(np.abs(get_polymers(cluster))))\n",
    "\n",
    "    # Returns the cluster size at every timestep\n",
    "    return 2*M / (cluster_amount) \n",
    "\n",
    "\n",
    "# Runs simulation of monomer grids, to find a mean cluster size with the parameters defined below\n",
    "def cluster_sim():\n",
    "    print(\"Start\")\n",
    "    T_l = 100    # Lower bound for the temperature range\n",
    "    T_h = 1000   # Upper bound fot the temperature range\n",
    "    n = 100      # Number of samples taken after equilibrium is reached\n",
    "    number_of_temperatures = 10       # The amount of sim\n",
    "    T_values = np.linspace(T_l, T_h, number_of_temperatures)\n",
    "    cluster_size = np.zeros((number_of_temperatures, n))\n",
    "    for i in range(len(T_values)):\n",
    "        T = T_values[i]\n",
    "        # Calculates and records the sampeled cluster sizes for the given temperature\n",
    "        cluster_size[i] = cluster_size_of_T(T, T_l, n=n)\n",
    "        # print(f\"Done: {T}\")\n",
    "    # print(\"Finished\")\n",
    "    # Return the list of all sampeled values\n",
    "    return cluster_size\n",
    "\n",
    "# Runs the cluster simulation defined above, and plots the results\n",
    "def run_cluster_sim():\n",
    "    cluster_size = cluster_sim()\n",
    "\n",
    "    T_l = 100\n",
    "    T_h = 1000\n",
    "    number_of_sims = 10\n",
    "    T_values = np.linspace(T_l, T_h, number_of_sims)\n",
    "    mean_d = np.zeros(number_of_sims)\n",
    "    d_std = np.zeros(number_of_sims)\n",
    "\n",
    "\n",
    "    for i in range(len(T_values)):\n",
    "        mean_d[i] = np.mean(cluster_size[i])\n",
    "        d_std[i] = np.std(cluster_size[i])\n",
    "\n",
    "    fig, ax = plt.subplots()\n",
    "    ax.errorbar(T_values, mean_d, d_std, linestyle='None', marker='^')\n",
    "    ax.set_xlabel(\"Temperature / K\")\n",
    "    ax.set_ylabel(\"Cluster size\")\n",
    "    ax.set_title(\"Mean_d(T), with standard deviation\")\n",
    "    ax.set_xticks(T_values)\n",
    "    ax.set_yticks(np.arange(1, 15))\n",
    "\n",
    "    plt.show()"
   ]
  },
  {
   "cell_type": "markdown",
   "metadata": {
    "cell_id": "4607b2ba-c47f-4b58-96f2-ce8605be8254",
    "deepnote_cell_type": "text-cell-h3",
    "is_collapsed": false,
    "tags": []
   },
   "source": [
    "### Polymer simulation"
   ]
  },
  {
   "cell_type": "markdown",
   "metadata": {},
   "source": [
    "<a id='poly_sim'></a>"
   ]
  },
  {
   "cell_type": "code",
   "execution_count": 11,
   "metadata": {
    "cell_id": "00019-5ebd6875-bc58-488b-9a35-dbc4cb54a91c",
    "deepnote_cell_type": "code",
    "deepnote_to_be_reexecuted": false,
    "execution_millis": 1,
    "execution_start": 1644828606194,
    "source_hash": "707231c7"
   },
   "outputs": [],
   "source": [
    "def run_simulation_with_polymers(N, M, L, steps, T, show_grid=False, movement=\"rigid\", save=False): #Simulations with random grids.\n",
    "    grid = generate_grid_of_polymers(N, M, L)\n",
    "    new_grid, epsilon = monte_carlo(grid, steps, T, movement=movement)\n",
    "    if show_grid:\n",
    "        visualize_grid([grid, new_grid], title=(f\"Before\\nN = {N}, M = {M}, T = {T}\",f\"After\\nN = {N}, M = {M}, T = {T}\"))\n",
    "    if __name__ == '__main__':\n",
    "        length = len(epsilon)\n",
    "        x = [a for a in range(length)]\n",
    "        fig, ax = plt.subplots()\n",
    "        ax.plot(x, epsilon)\n",
    "        ax.set_title(\"Energy\")\n",
    "        ax.set_ylabel(\"Joule/alpha\")\n",
    "        plt.show()\n",
    "    if save:\n",
    "        np.savez(f\"gridT_{T}\", new_grid=new_grid)\n",
    "\n",
    "    return new_grid, epsilon\n",
    "\n",
    "def run_simulation_with_polymers_fixed_grid(grid, steps, T, show_grid=False, movement=\"rigid\", save=False): #Simulation with a spesific grid.\n",
    "    new_grid, epsilon = monte_carlo(grid, steps, T, movement=movement)\n",
    "    if show_grid:\n",
    "        visualize_grid([grid, new_grid], title=(f\"Before\\nN = {N}, M = {M}, T = {T}\",f\"After\\nN = {N}, M = {M}, T = {T}\"))\n",
    "    if __name__ == '__main__':\n",
    "        length = len(epsilon)\n",
    "        x = [a for a in range(length)]\n",
    "        fig, ax = plt.subplots()\n",
    "        ax.plot(x, epsilon)\n",
    "        ax.set_title(\"Energy\")\n",
    "        ax.set_ylabel(\"Joule/alpha\")\n",
    "        plt.show()\n",
    "    if save:\n",
    "        np.savez(f\"gridT_{T}\", new_grid=new_grid)\n",
    "\n",
    "    return new_grid, epsilon\n"
   ]
  },
  {
   "cell_type": "markdown",
   "metadata": {
    "cell_id": "0718ff54-c95d-4402-a72d-8e9b7cda8900",
    "deepnote_cell_type": "text-cell-h3",
    "is_collapsed": false,
    "tags": []
   },
   "source": [
    "### Polymer clustering"
   ]
  },
  {
   "cell_type": "markdown",
   "metadata": {},
   "source": [
    "<a id='polymer_cluster'></a>"
   ]
  },
  {
   "cell_type": "code",
   "execution_count": 13,
   "metadata": {
    "cell_id": "d0cd32fc-e44e-4897-ab6b-cedf75c40f34",
    "deepnote_cell_type": "code",
    "deepnote_output_heights": [
     null,
     443
    ],
    "deepnote_to_be_reexecuted": false,
    "execution_millis": 33,
    "execution_start": 1644846661544,
    "source_hash": "fa954caa",
    "tags": []
   },
   "outputs": [],
   "source": [
    "@jit(nopython=True)\n",
    "def get_steps_polymer(L, L_l, t_max = 50000, s = 1/40, C = 50000):\n",
    "    return int(t_max * np.exp(-s*(L - L_l)) + C)\n",
    "\n",
    "@jit(nopython=True)\n",
    "def cluster_amount_polymer(T, L, L_l, n, movement=\"medium_flex\", N=30, M=5):\n",
    "    t_equil = get_steps_polymer(L, L_l)\n",
    "    t_r = 1000\n",
    "\n",
    "    cluster_amount = np.zeros((n))\n",
    "\n",
    "    grid = generate_grid_of_polymers(N, M, L)\n",
    "    grid, epsilon = monte_carlo(grid, t_equil, T, movement=movement)\n",
    "\n",
    "    for i in range(n):\n",
    "        grid, epsilon = monte_carlo(grid, t_r, T, movement=movement)\n",
    "        cluster = cluster_grid(grid, N)\n",
    "        cluster_amount[i] = np.sum(np.sign(np.abs(get_polymers(cluster))))\n",
    "\n",
    "    return cluster_amount\n",
    "\n",
    "def poly_cluster(n, movement):\n",
    "    T = 300\n",
    "    number_of_sims = 13\n",
    "    L_l = 3\n",
    "    L_h = 39\n",
    "    L_values = np.linspace(L_l, L_h, number_of_sims)\n",
    "    cluster_amount = np.zeros((number_of_sims, n))\n",
    "    print(\"Start\")\n",
    "    for i in range(number_of_sims):\n",
    "        L = L_values[i]\n",
    "        cluster_amount[i] = cluster_amount_polymer(T, L, L_l, n, movement)\n",
    "        print(f\"Done: {L}\")\n",
    "    print(\"Finished\")\n",
    "    return cluster_amount \n",
    "\n",
    "def run_sim_poly_cluster(movement=\"medium_flex\"):\n",
    "    number_of_sims = 13\n",
    "    M = 5\n",
    "    n = 50\n",
    "    cluster_amount = poly_cluster(n, movement)\n",
    "    L_values = np.linspace(3, 39, number_of_sims)\n",
    "    mean_d_over_L = np.zeros(number_of_sims)\n",
    "    d_std = np.zeros(number_of_sims)\n",
    "    mean_m = np.zeros(number_of_sims)\n",
    "    m_std = np.zeros(number_of_sims)\n",
    "    \n",
    "\n",
    "    for i in range(number_of_sims):\n",
    "        mean_d_over_L[i] = np.mean(2*M * L_values[i] / cluster_amount[i]) / L_values[i]\n",
    "        d_std[i] = np.std(2*M * L_values[i] / cluster_amount[i]) / L_values[i]\n",
    "        mean_m[i] = np.mean(cluster_amount[i])\n",
    "        m_std[i] = np.std(cluster_amount[i])\n",
    "\n",
    "    fig, (ax1, ax2) = plt.subplots(1, 2, figsize= (14, 7))\n",
    "\n",
    "    ax1.errorbar(L_values, mean_d_over_L, d_std, linestyle=\"None\", marker=\"^\")\n",
    "    ax1.set_xlabel(\"L\")\n",
    "    ax1.set_ylabel(\"(Cluster size) / L\")\n",
    "    ax1.set_title(\"Mean_d(T)/L, with standard deviation\")\n",
    "\n",
    "    ax2.errorbar(L_values, mean_m, m_std, linestyle=\"None\", marker=\"^\")\n",
    "    ax2.set_xlabel(\"L\")\n",
    "    ax2.set_ylabel(\"Cluster amount\")\n",
    "    ax2.set_title(\"Mean_m(T), with standard deviation\")\n",
    "\n",
    "    plt.show()\n",
    "\n",
    "\n",
    "def poly_cluster_compare(n):\n",
    "    T_values = np.linspace(100, 1000, 10)\n",
    "    number_of_sims = 10\n",
    "    L_l = 3\n",
    "    L_h = 39\n",
    "    L_values = np.linspace(L_l, L_h, number_of_sims)\n",
    "    cluster_amount = np.zeros((10, 10, n))\n",
    "    print(\"Start\")\n",
    "    for i in range(len(T_values)):\n",
    "        T = T_values[i]\n",
    "        for j in range(number_of_sims):\n",
    "            L = L_values[j]\n",
    "            cluster_amount[i, j] = cluster_amount_polymer(T, L, L_l, n)\n",
    "        print(f\"Done: {T}\")\n",
    "    print(\"Finished\")\n",
    "    return cluster_amount \n",
    "\n",
    "\n",
    "def run_sim_poly_cluster_compare():\n",
    "    number_of_sims = 10\n",
    "    M = 5\n",
    "    n = 1\n",
    "    cluster_amount = poly_cluster_compare(n)\n",
    "    L_values = np.linspace(3, 39, 10)\n",
    "    T_values = np.linspace(100, 1000, 10)\n",
    "    X, Y = np.meshgrid(L_values, T_values)\n",
    "\n",
    "    mean_d_on_L = np.zeros((10, 10))\n",
    "    mean_m = np.zeros((10, 10))\n",
    "\n",
    "    for i in range(number_of_sims):\n",
    "        for j in range(number_of_sims):\n",
    "            mean_d_on_L[i, j] = np.mean(2*M / cluster_amount[i, j])\n",
    "            mean_m[i, j] = np.mean(cluster_amount[i, j])\n",
    "\n",
    "    fig1, ax1 = plt.subplots(subplot_kw={\"projection\": \"3d\"}, figsize=(15, 15))\n",
    "    fig2, ax2 = plt.subplots(subplot_kw={\"projection\": \"3d\"}, figsize=(15, 15))\n",
    "\n",
    "    ax1.plot_surface(X, Y, mean_d_on_L)\n",
    "    ax1.set_title(\"Mean d / L\")\n",
    "    ax1.set_xlabel(\"L\")\n",
    "    ax1.set_ylabel(\"T/K\")\n",
    "    ax1.view_init(30, 120)\n",
    "\n",
    "    ax2.plot_surface(X, Y, mean_m)\n",
    "    ax2.set_title(\"Mean m\")\n",
    "    ax2.set_xlabel(\"L\")\n",
    "    ax2.set_ylabel(\"T/K\")\n",
    "    ax2.view_init(30, -60)\n",
    "\n",
    "\n",
    "    plt.show()"
   ]
  },
  {
   "cell_type": "markdown",
   "metadata": {
    "cell_id": "5aee2717-55b0-4bc1-9d31-77357f10deb1",
    "deepnote_cell_type": "text-cell-h1",
    "is_collapsed": false,
    "tags": []
   },
   "source": [
    "# Part 1: Monomers "
   ]
  },
  {
   "cell_type": "markdown",
   "metadata": {
    "cell_id": "85f87330-b1fc-4f61-a8a6-ebeeaba669b9",
    "deepnote_cell_type": "markdown",
    "tags": []
   },
   "source": [
    "To get our bearings, we firstly want to able to simulate a system of monomers. In this model the monomers are not going to connect into polymers, but rather move freely around the grid. To model the real world behaviour we want a simulation in which the system tries to minimize its energy, with regards to the laws of thermodynamics. \n",
    "\n",
    "The first step will be to genereate a surface containing static monomers. To achieve this we model the surface as a discrete grid with size N x N. In the grid \"0\" means that there are no monomers in that position, and other values represents the existance of a monomer there. The different monomers/polymers will have different values associated with themselves, with the sign indicating the sign of the charge. Too simplify greatly we will assume that every monomer has the same amount of charge, namely q=e.\n",
    "\n",
    "With these assumptions in mind we can generate a random N x N grid with M positive and M negative monomers placed randomly. We achieve this by creating a 1D array with length $N^2$, and randomly placing values from -M to M, with the rest being 0. This is achived by the function [generate_grid_of_monomers()](#generate_monomers)\n",
    "\n",
    "To visualize the system, we use the function [visualize_grid()](#visualize_grid), which plots the grid as a colormesh. Different colors represent different monomers, with blue and red hues representing negative and positive charges accordingly. Below is an example of a grid of monomers being generated and visualized as decribed.\n",
    "\n"
   ]
  },
  {
   "cell_type": "code",
   "execution_count": 12,
   "metadata": {
    "cell_id": "b4cfbed8-a301-452d-bd42-06064b38b110",
    "deepnote_cell_type": "code",
    "deepnote_output_heights": [
     457
    ],
    "deepnote_to_be_reexecuted": false,
    "execution_millis": 6431,
    "execution_start": 1644828606224,
    "source_hash": "c333cc50",
    "tags": []
   },
   "outputs": [
    {
     "data": {
      "image/png": "[encoded data removed]",
      "text/plain": [
       "<Figure size 504x540 with 2 Axes>"
      ]
     },
     "metadata": {
      "needs_background": "light"
     },
     "output_type": "display_data"
    }
   ],
   "source": [
    "N_1 = 10  # Size of the grid\n",
    "M_1 = 20 # Number of positive and negative monomers in the grid\n",
    "\n",
    "monomer_grid = generate_grid_of_monomers(N_1, M_1)\n",
    "\n",
    "\n",
    "visualize_grid(monomer_grid, title=f\"{N_1} x {N_1} grid of {M_1} positive and {M_1} negative monomers\")"
   ]
  },
  {
   "cell_type": "markdown",
   "metadata": {
    "cell_id": "367185a7-1f9f-4774-8aeb-894c0e5566f6",
    "deepnote_cell_type": "markdown",
    "tags": []
   },
   "source": [
    "Now that we can both generate a grid of monomers and visualize it, the next step will be to implement the Monte Carlo algorithm for this system. In general the Monte Carlo algorithm needs a way to calcualte the energy of the system and way to usher movement in the system. \n",
    "\n",
    "As mentioned in the introduction, the Monte Carlo algorithm tries to bring the system to a state which is a local energy minima, while allowing some sporadic movement which results in a higher total energy.\n",
    "Our implementation accomplishes this by taking in the initial grid we generated, and sum up the energy of the entire system. The code then tries to move a monomer/polymer. If the random move turns out not to be a legal move, the move is rejected and a new iteration follows. On the other hand if the move is legal, the algorithm will calculate the total energy of this new configuration. If the new energy is lower than for the previous grid, the move is accepted, and that new grid will be the base for the next itteration. \n",
    "\n",
    "\n",
    "Even so, there is still a non zero probabillity that the system will spontanously accept the move even if the energy increases. This is calculated using the thermodynamical probabillity of states function below, with regards to the temperature of the system:\n",
    "\n",
    "$$\n",
    "e^{-\\beta(E(S_n) - E(S_i))} \\lessgtr p, p \\in_{R} [0, 1]\n",
    "$$\n",
    "\n",
    "\n",
    "This process loops for a set number of itrerations, and then returns the final grid and the energy for every step. To return this, we mainly need a function that calculates the total energy of a system, and a function that makes a given monomer move.\n",
    "\n",
    "\n",
    "To calculate the energy of each grid point, we use the function [total_energy_grid()](#total_energy_grid). The function makes use of the numba.roll, which is our own equivalent function to numpy.roll. Namely we want to roll the grid in all cardinal directions.\n",
    "The reason for this is to make a single matrix, with the sum of the neighbor charges for an element in position (i, j) to also be in that position (i, j), in this new neighbor charge sum matrix. Note that the magnitude of the charges is either -1 or 1, and the (sign) of the monomer value is the only thing that matters.\n",
    "Since any point in the grid has 4 cardinal neighbors this summation will be of the grid with charges, rolled in four different directions and then summed up. Since every monomer (i, j) corrosponds with a total neighbor charge with position (i, j), we can find the energy of all monomers by multiplying the matrix element-wise, with regards to the potenial energy defined by:\n",
    "\n",
    "$$\n",
    "V_{kl} = \\begin{cases}\n",
    "      1 & w_kw_l\\alpha\\text{ for cardinal neighbors}\\\\\n",
    "      2 & 0 \\text{ for non neighbors}\\\\\n",
    "    \\end{cases}\n",
    "$$\n",
    "With:\n",
    "\n",
    "$$\n",
    "\\alpha = \\frac{e^2}{4\\pi\\epsilon_0\\epsilon_ra^2}\n",
    "$$\n",
    "\n",
    "Where a is the distance between monomers, a = 23µm and epsilon_r being the relative permativity, epsilon_r = 78.\n",
    "\n",
    "Then to get the total energy of the grid we summate all of these contributions and divide by two. The reason we need to divide by two is because every energy contribution is counted twice, since neighbors comes in pairs. This function returns the energy with the dimensionless qunatity $E/\\alpha$. This means in the Monte Carlo algorithm we multiply by alpha before the probabillistic increase in energy expression.\n",
    "\n",
    "Below is the calculated energy for the grid we generated earlier. "
   ]
  },
  {
   "cell_type": "code",
   "execution_count": 13,
   "metadata": {
    "cell_id": "6bcb1100-58db-4d13-8496-66534337792c",
    "deepnote_cell_type": "code",
    "deepnote_to_be_reexecuted": false,
    "execution_millis": 21,
    "execution_start": 1644835489939,
    "source_hash": "bbe7005d",
    "tags": []
   },
   "outputs": [
    {
     "name": "stdout",
     "output_type": "stream",
     "text": [
      "The total energy of the monomer system above is: 0.0\n"
     ]
    }
   ],
   "source": [
    "total_monomer_energy = total_energy_grid(monomer_grid)\n",
    "print(f\"The total energy of the monomer system above is: {total_monomer_energy}\")"
   ]
  },
  {
   "cell_type": "markdown",
   "metadata": {
    "cell_id": "f0ee9448-36fd-4d9e-92b0-e96eb7c4c741",
    "deepnote_cell_type": "markdown",
    "tags": []
   },
   "source": [
    "The next function we have to implement to run the Monte Carlo algorithm on a monomer system is a function that moves the monomers. This is modelled by the function [move_monomers()](#move_monomers). The function works by inputing the grid, the monomer in question and a direction to move the monomer. The direction is picked randomly by [random_direction()](#rand_dir). With some simple calculation the new position of the monomer is found. Subsequently the legality of the move is found, i.e. checks if the monomer moved to a vacant spot. If this check goes through a copy of the grid with the moved completed is returned.\n",
    "\n",
    "At this point, we are ready to run a simulation of a monomer system. Below we make use of the function [run_simulation_monomer()](#run_simulation_monomer) to simulate the system with the Monte Carlo algorithm. "
   ]
  },
  {
   "cell_type": "code",
   "execution_count": 14,
   "metadata": {
    "cell_id": "d2c0878f-7d50-4020-9f53-d8ad5b7eaf8e",
    "deepnote_cell_type": "code",
    "deepnote_output_heights": [
     472,
     266,
     472,
     472,
     266
    ],
    "deepnote_to_be_reexecuted": false,
    "execution_millis": 2588,
    "execution_start": 1644846642768,
    "source_hash": "50b506a3",
    "tags": []
   },
   "outputs": [
    {
     "data": {
      "image/png": "[encoded data removed]",
      "text/plain": [
       "<Figure size 1008x540 with 4 Axes>"
      ]
     },
     "metadata": {
      "needs_background": "light"
     },
     "output_type": "display_data"
    },
    {
     "data": {
      "image/png": "[encoded data removed]",
      "text/plain": [
       "<Figure size 432x288 with 1 Axes>"
      ]
     },
     "metadata": {
      "needs_background": "light"
     },
     "output_type": "display_data"
    },
    {
     "name": "stdout",
     "output_type": "stream",
     "text": [
      "Run time for mono T=200: 21.336769342422485\n"
     ]
    },
    {
     "data": {
      "image/png": "[encoded data removed]",
      "text/plain": [
       "<Figure size 1008x540 with 4 Axes>"
      ]
     },
     "metadata": {
      "needs_background": "light"
     },
     "output_type": "display_data"
    },
    {
     "data": {
      "image/png": "[encoded data removed]",
      "text/plain": [
       "<Figure size 432x288 with 1 Axes>"
      ]
     },
     "metadata": {
      "needs_background": "light"
     },
     "output_type": "display_data"
    }
   ],
   "source": [
    "N_2 = 15\n",
    "M_2 = 25\n",
    "\n",
    "T1= 200\n",
    "T2 = 500\n",
    "t0_mono_200 = time.time()\n",
    "run_simulation_monomers(N_2, M_2, 50000, T1, show_grid=True, save=True)\n",
    "time_monomer = time.time() - t0_mono_200\n",
    "print(f\"Run time for mono T=200: {time.time() - t0_mono_200}\")\n",
    "run_simulation_monomers(N_2, M_2, 50000, T2, show_grid=True, save=False)"
   ]
  },
  {
   "cell_type": "markdown",
   "metadata": {
    "cell_id": "0e7ff6d3-61ec-46a2-b38a-c477228bfe13",
    "deepnote_cell_type": "markdown",
    "tags": []
   },
   "source": [
    "When we plot the energy for $T=200K$ and $T=500K$, it appears as if the system evolves differently. For $T=500K$ the energy fluctuates with a higher amplitude around the equlibrium energy than $T=200K$. The equilibrium energy looks to be higher with temperature. This may be because the monomors move sporadically at higher temperatures, since a spontanious increase in energy is more likely. The time it takes for the system to reach equilibrium seems to also be dependent on temperature. For the simulation with $T=200K$ the system reached equilibrium after aproximately 10000 Monte Carlo iterations. For higher temperatures we expect the system to have a higher entropy. This is reflected by how $T=500K$ looks to either start in equilibrium or reach it quite quickly. With higher entropy we expect more random behaviour, which is also how the system is initialized with the monomers being placed randomly. With a lower temperature the system will settle into a local energy minima, and be less able to find any lower energy states since it has fewer random events which could result in a lower energy state. However for the higher temperature case the system changes too erratically to settle firmly into a local energy minima. The local energy minima occur when the monomers arange in alternating positive and negative pattern, and gets its absolute lowest energy when all the monomers clump in one big cluster. At higher temperatues, the monomers will not clump up to large clusters as often as for lower tempertures. This is clear from the visualization of the grid at $T=200K$ and $T=500K$. \n",
    "\n"
   ]
  },
  {
   "cell_type": "markdown",
   "metadata": {
    "cell_id": "d05a42b5-94af-498d-91e6-945533e4837d",
    "deepnote_cell_type": "markdown",
    "tags": []
   },
   "source": [
    "By modifying the simulation above slightly, it is possible to examine the formation of aggregates. In other words the  clustering of monomers, as the system matures. In this model we define a cluster as a collection of monomers being connected as unbroken chains or clumps of cardinal neighbors. Unbroken in the sense that every monomer in a cluster can be mapped to another monomer in the cluster, by only taking steps with length 1 in a cardinal direction (i.e. diagonal moves are not allowed), without moving into the solvent or another cluster.\n",
    "\n",
    "To find the clustering of a grid we set the value of all monomers to -1, indicating that the monomer or monomers in question is not yet apart of a cluster. Then we pick any position which is -1 and \"grow\" a cluster by finding its neighbors, changing them to a unique cluster value (1, 2, 3 ...) for that cluster, and using recursion repeats this process for the neighbors now incorporated into the cluster. This continues until there are no monomers adjacent to the cluster which is not already apart of the cluster. Then if there are any non-clustered monomers left the process is repeated as explained above. This process is achieved by the function [cluster_grid()](#clustering). Below is an example of the previousliy saved grid of the $T=200K$ Monte Carlo simulation from above being turned into a cluster grid. Since we are not interested in the charges when we cluster the monomers/polymers we only use positive values for the clusters, and give them colors without taking charge into considiration."
   ]
  },
  {
   "cell_type": "code",
   "execution_count": 15,
   "metadata": {
    "cell_id": "cd376f92-89dd-46b6-bcf9-3ac4418a6e46",
    "deepnote_cell_type": "code",
    "deepnote_output_heights": [
     472
    ],
    "deepnote_to_be_reexecuted": false,
    "execution_millis": 800,
    "execution_start": 1644828635173,
    "source_hash": "a7389231",
    "tags": []
   },
   "outputs": [
    {
     "data": {
      "image/png": "[encoded data removed]",
      "text/plain": [
       "<Figure size 1008x540 with 4 Axes>"
      ]
     },
     "metadata": {
      "needs_background": "light"
     },
     "output_type": "display_data"
    }
   ],
   "source": [
    "before_cluster = np.load(\"gridT_200.npz\")[\"new_grid\"]\n",
    "\n",
    "after_cluster = cluster_grid(before_cluster, N_2)\n",
    "\n",
    "cluster_amount = np.sum(np.sign(get_polymers(after_cluster)))\n",
    "\n",
    "visualize_grid([before_cluster, after_cluster], title=(f\"Monomer\\nN = {N_2}, M = {M_2}, T = {T1}\",f\"Clustered\\nN = {N_2}, Cluster amount = {cluster_amount}, T = {T1}\"))\n"
   ]
  },
  {
   "cell_type": "markdown",
   "metadata": {
    "cell_id": "83950b1b-e59b-41e8-8e95-f3e9a90d5fce",
    "deepnote_cell_type": "markdown",
    "tags": []
   },
   "source": [
    "Now with a way to find the clustering of monomers, we can investigate the mean cluster size $\\langle d \\rangle$, for systems at equilibrium as a function of different temperatures. The range of temperatures we are investigating are 10 evenly spaced temperatures between 100K and 1000K. Number of steps until equilibrium for a given temperature is approximated with the parameters $T_l=100, s=1/200, C = 10000, t_{max}= 300000$ and the expression:  $t_{equil}(T) = t_{max}exp(-s(T-T_l)) + C$. For every temperature the initial grid will be different, with the parameteres $N=25$ and $M=25$. To calculate the mean we need to find the cluster size at different points in time after equilibrium. Since the system at t=t_equil is essentially the same at t=t_equil + 1, we sample every 1000 steps, instead of every step. This means we can assume that every sample is indepent, which permits use to approximate d by taking the mean: \n",
    "\n",
    "$$d \\approx \\langle d \\rangle = (\\frac{\\sum_{t}\\#Clusters(t)}{2Mn})^{-1}$$\n",
    "\n",
    "To get an approximation for d, we chose to sample n=100 times after equilibrium. This simulation can be run using the function [run_cluster_sim()](#cluster_sim), as seen below:"
   ]
  },
  {
   "cell_type": "code",
   "execution_count": 16,
   "metadata": {
    "cell_id": "5561b78a-2020-487d-81d5-3e078d26f2a0",
    "deepnote_cell_type": "code",
    "deepnote_output_heights": [
     280
    ],
    "deepnote_to_be_reexecuted": false,
    "execution_millis": 36400,
    "execution_start": 1644828635839,
    "source_hash": "3025a6a9",
    "tags": []
   },
   "outputs": [
    {
     "name": "stdout",
     "output_type": "stream",
     "text": [
      "Start\n"
     ]
    },
    {
     "data": {
      "image/png": "[encoded data removed]",
      "text/plain": [
       "<Figure size 432x288 with 1 Axes>"
      ]
     },
     "metadata": {
      "needs_background": "light"
     },
     "output_type": "display_data"
    }
   ],
   "source": [
    "run_cluster_sim()"
   ]
  },
  {
   "cell_type": "markdown",
   "metadata": {
    "cell_id": "c4fc98b6-0195-47c8-99a2-be1495634fa0",
    "deepnote_cell_type": "markdown",
    "tags": []
   },
   "source": [
    "The simulation above shows that cluster size appears to be higher for lower temperatures. By earlier dicussions we concluded that bigger clusters, with monomers of oppsite charges next to each other will result in the lowest energy possible for the system. But at higher temperatures the likelihood that the energy spontanously increases is higher. Therefore at higher temperatures the system will look more random i.e. less structured, and the monomers will be more uniformly distribuated.\n",
    "\n",
    "Even though we got a large deviation for the mean_d at lower temperatures, we will still argue that our choice of n is valid. The large standard deviation is the result of the size of clusters being more unstable for bigger clusters. That is because when the random increase in energy occurs, it can potenially break a large cluster into multiple parts or vice versa. For higher temperatures, the mean cluster size is about 2, so a spontanous separation of a cluster of size 2 into two cluster of size 1 is clearly less impactful, since the amount of clusters is large. Even with the occurrence of the energy increasing being rarer at lower values of T, a potenially large difference in the number of clusters can be observed when it occures.\n",
    "\n",
    "Lets try to run the simulation multiple times, so that we can compare how initital conditions impact the evolution of the system."
   ]
  },
  {
   "cell_type": "code",
   "execution_count": 17,
   "metadata": {
    "cell_id": "bd9cfc46-55e7-4502-a0cc-09b79be9bca4",
    "deepnote_cell_type": "code",
    "deepnote_output_heights": [
     280,
     280,
     280,
     280,
     280
    ],
    "deepnote_to_be_reexecuted": false,
    "execution_millis": 115931,
    "execution_start": 1644828710609,
    "source_hash": "1b2e6d31",
    "tags": []
   },
   "outputs": [
    {
     "name": "stdout",
     "output_type": "stream",
     "text": [
      "Start\n"
     ]
    },
    {
     "data": {
      "image/png": "[encoded data removed]",
      "text/plain": [
       "<Figure size 432x288 with 1 Axes>"
      ]
     },
     "metadata": {
      "needs_background": "light"
     },
     "output_type": "display_data"
    },
    {
     "name": "stdout",
     "output_type": "stream",
     "text": [
      "Start\n"
     ]
    },
    {
     "data": {
      "image/png": "[encoded data removed]",
      "text/plain": [
       "<Figure size 432x288 with 1 Axes>"
      ]
     },
     "metadata": {
      "needs_background": "light"
     },
     "output_type": "display_data"
    },
    {
     "name": "stdout",
     "output_type": "stream",
     "text": [
      "Start\n"
     ]
    },
    {
     "data": {
      "image/png": "[encoded data removed]",
      "text/plain": [
       "<Figure size 432x288 with 1 Axes>"
      ]
     },
     "metadata": {
      "needs_background": "light"
     },
     "output_type": "display_data"
    },
    {
     "name": "stdout",
     "output_type": "stream",
     "text": [
      "Start\n"
     ]
    },
    {
     "data": {
      "image/png": "[encoded data removed]",
      "text/plain": [
       "<Figure size 432x288 with 1 Axes>"
      ]
     },
     "metadata": {
      "needs_background": "light"
     },
     "output_type": "display_data"
    },
    {
     "name": "stdout",
     "output_type": "stream",
     "text": [
      "Start\n"
     ]
    },
    {
     "data": {
      "image/png": "[encoded data removed]",
      "text/plain": [
       "<Figure size 432x288 with 1 Axes>"
      ]
     },
     "metadata": {
      "needs_background": "light"
     },
     "output_type": "display_data"
    }
   ],
   "source": [
    "for i in range(5):\n",
    "    run_cluster_sim()"
   ]
  },
  {
   "cell_type": "markdown",
   "metadata": {
    "cell_id": "a532911c-d2d5-4864-8c19-5f66328787de",
    "deepnote_cell_type": "markdown",
    "tags": []
   },
   "source": [
    "The discrepancy of the mean cluster size between multiple simulations looks to be larger for lower temperatures. Since lower temperatures creates bigger clusters it looks to be dependant of the initial conditions. This is also what intuition tells us, since a random arrangment of monomers are not likely to be ordered in way with more structure, i.e. low entropy. And since the temperature is low, it is not likely to explore all potenial states of the grid which can result in a even lower energy state, i.e. bigger clusters.\n",
    "\n",
    "\n"
   ]
  },
  {
   "cell_type": "markdown",
   "metadata": {
    "cell_id": "cb2a5158-ee1a-4b35-8d8d-66a098865782",
    "deepnote_cell_type": "text-cell-h1",
    "is_collapsed": false,
    "tags": []
   },
   "source": [
    "# Part 2: Polymers"
   ]
  },
  {
   "cell_type": "markdown",
   "metadata": {
    "cell_id": "c1c8d09c-7d1c-4f73-ba19-570bcfce1b61",
    "deepnote_cell_type": "markdown",
    "tags": []
   },
   "source": [
    "Up till this point the main focus has been on systems of monomers. In reality, monomers will try to make polymers. Therefore we want our Monte-Carlo simulation to also work with such a system. \n",
    "\n",
    "The first step is to make a grid of 2M polymers. To do this, we start with one randomly placed monomer in our grid, and then expand from this basis with one monomer at a time until we have a polymer of L monomers connceted with the same rules as unbroken clusters. We expand the polymer by finding all the neighbor coordinates of a all monomers currently in the polymer, and select a vacant neighbor position randomly from that list and incorporates this position into the polymer. When the polymer reaches the desired size L, a new polymer can be generated until all 2M polymers are generated. The same way as 2M monomers meant M positive and M negative monomers, 2M will also mean M positive polymers and M negative polymers. This generation is implemented by the function [generate_grid_of_polymers](#generate_monomers).\n",
    "\n",
    "Below is an example of a polymer system with 4 polymers, each with multivalency L=25.  "
   ]
  },
  {
   "cell_type": "code",
   "execution_count": 18,
   "metadata": {
    "cell_id": "2144ee52-edfc-4fe0-8603-719c46c0324a",
    "deepnote_cell_type": "code",
    "deepnote_output_heights": [
     441
    ],
    "deepnote_to_be_reexecuted": false,
    "execution_millis": 8522,
    "execution_start": 1644828826582,
    "source_hash": "adf6f4a6",
    "tags": []
   },
   "outputs": [
    {
     "data": {
      "image/png": "[encoded data removed]",
      "text/plain": [
       "<Figure size 504x540 with 2 Axes>"
      ]
     },
     "metadata": {
      "needs_background": "light"
     },
     "output_type": "display_data"
    }
   ],
   "source": [
    "L = 25\n",
    "N_2 = 20\n",
    "M_2 = 2\n",
    "grid_polymers = generate_grid_of_polymers(N_2,M_2,L)\n",
    "visualize_grid(grid_polymers)"
   ]
  },
  {
   "cell_type": "markdown",
   "metadata": {
    "cell_id": "ee13bdd4-b440-4742-bc27-6446b82b7275",
    "deepnote_cell_type": "markdown",
    "tags": []
   },
   "source": [
    "Following being able to generate a grid of polymers, we now want to implement and run the Monte Carlo algorithm with polymers. The Monte Carlo algorithm is fundamentally the same for both monomer and polymer systems. However, when simulating a polymer system, the calculation of the total energy is different from the monomer system. In addition, the polymers can move around the grid in different ways that we will get into later.\n",
    "\n",
    "Firstly we need to calculate the total energy of the system. The energy formula is the same as for monomers, but we do not want to count the energy contribution of monomers in the same polymer. This results in the new function [total_energy_polymer()](#total_energy_grid), which do not count the energy between monomers within the polymer. The value of alpha is also slightly different, and equal to 91µm and stays this value for the rest of the simulations.\n"
   ]
  },
  {
   "cell_type": "markdown",
   "metadata": {
    "cell_id": "eeba469f-24ce-44b8-af9d-29f59d803907",
    "deepnote_cell_type": "markdown",
    "tags": []
   },
   "source": [
    "Similar to the system of monomers, the Monte Carlo simulation moves the polymers around the grid in search for a more stable state. In this project we will look at two different ways to move a polymer around the grid. The simpelest, and the first we implement is the \"rigid move\".\n",
    "\n",
    "The rigid move moves the entire polymer as one large unit, keeping its shape during the whole move. However, the move is considered illigal if just one of the grid points in the desired move is occupated by another polymer. With the the rigid move implemented, we are ready to do our first Monte-Carlo simulation for a polymer system. Below is an example of a Monte-Carlo simulation with 30 000 steps, using the rigid move.\n",
    "\n",
    " "
   ]
  },
  {
   "cell_type": "code",
   "execution_count": 19,
   "metadata": {
    "cell_id": "08349f05-1dde-40d0-821b-53a018efc114",
    "deepnote_cell_type": "code",
    "deepnote_output_heights": [
     266,
     441,
     441
    ],
    "deepnote_to_be_reexecuted": false,
    "execution_millis": 1043,
    "execution_start": 1644846957790,
    "source_hash": "4afee66c",
    "tags": []
   },
   "outputs": [
    {
     "data": {
      "image/png": "[encoded data removed]",
      "text/plain": [
       "<Figure size 432x288 with 1 Axes>"
      ]
     },
     "metadata": {
      "needs_background": "light"
     },
     "output_type": "display_data"
    },
    {
     "name": "stdout",
     "output_type": "stream",
     "text": [
      "The run timefor the rigid move was: 29.07382822036743 s\n",
      "The run timefor the monomer move was: 21.336769342422485 s\n"
     ]
    },
    {
     "data": {
      "image/png": "[encoded data removed]",
      "text/plain": [
       "<Figure size 504x540 with 2 Axes>"
      ]
     },
     "metadata": {
      "needs_background": "light"
     },
     "output_type": "display_data"
    }
   ],
   "source": [
    "t0_rigid = time.time()\n",
    "grid_monte_carlo_polymer_rigid, epsilon = run_simulation_with_polymers_fixed_grid(grid_polymers, 30000, 200, show_grid=False, movement=\"rigid\")\n",
    "print(f\"The run timefor the rigid move was: {time.time() - t0_rigid} s\")\n",
    "print(f\"The run timefor the monomer move was: {time_monomer} s\")\n",
    "visualize_grid(grid_monte_carlo_polymer_rigid)"
   ]
  },
  {
   "cell_type": "markdown",
   "metadata": {
    "cell_id": "05b381aa-4fe8-425a-a525-48b4a06bf7a3",
    "deepnote_cell_type": "markdown",
    "tags": []
   },
   "source": [
    "The resulting polymer system do not look to different from the one we constructed before running the Monte Carlo algorithm. Despite that, the polymers tend to couple up with other polymers of different charge. As we know, this results in a lower total energy for the system. Moreover, the Monte Carlo runtime increase as we use the rigid movement compared to monomer movement. The main reason that the runtime increases, is that finding a legal move is much more effective for a monomer system, as we only work with one monomer at a time. Alternatively, when moving a polymer, it has to search for legal moves for all monomers making the polymer, each move it makes. Consequently, the number of code-loops, hence the runtime, increase as we implement the rigid move. The runtime for 50 000 Monte Carlo iterations in a monomer system is far less than the time it takes for 30 000 iterations using the rigid move in a polymer system. These results are printed above.\n",
    "\n",
    "Furthermore, the rigid move is a rather easy function to implement, but it does not give a realistic simulation. In real cells the polymer is not restricted to keep its shape, but can instead clump up or strech out. Therefore we implemented a new type of movement, the medium flexibility move. The medium flexibility move moves much like the rigid move, but during a illegal move the only part of the polymer that is restricted is the row or column that makes the illegal move. This happens as long as the polymer do not break.\n",
    "\n",
    "We implement this movement in the function called medium_flexible_move. In the function we split the polymer into so called row-polymers or column-polymer, depending on the direction of movement. If the movement is horisontal the polymer is split into row-polymers, and if the movement i vertical the polymer is split into column-polymers. This way the rows or columns that can move, will move, except if the polymer is broken. A polymer is broken if two parts of the polymer is not directly connected. We know that a polymer is broken if there is more than one cluster with the same polymer value in our system. This sequence is implemented to the function check_if_broken_polymer(). After implementation these functions, we can run the Monte-Carlo method so that our results appear more realistic. \n",
    "\n",
    "Below is an example of a Monte-Carlo simulation using the medium_flexible_move with 30 000 Monte-Carlo steps. \n",
    "\n"
   ]
  },
  {
   "cell_type": "code",
   "execution_count": 20,
   "metadata": {
    "cell_id": "fa471099-22d0-450e-badb-e5941bd915ad",
    "deepnote_cell_type": "code",
    "deepnote_output_heights": [
     266,
     441,
     441
    ],
    "deepnote_to_be_reexecuted": false,
    "execution_millis": 531,
    "execution_start": 1644846162076,
    "source_hash": "db6f6fef",
    "tags": []
   },
   "outputs": [
    {
     "data": {
      "image/png": "[encoded data removed]",
      "text/plain": [
       "<Figure size 432x288 with 1 Axes>"
      ]
     },
     "metadata": {
      "needs_background": "light"
     },
     "output_type": "display_data"
    },
    {
     "name": "stdout",
     "output_type": "stream",
     "text": [
      "The run time for medium flexible was: 3.7045228481292725 s\n"
     ]
    },
    {
     "data": {
      "image/png": "[encoded data removed]",
      "text/plain": [
       "<Figure size 504x540 with 2 Axes>"
      ]
     },
     "metadata": {
      "needs_background": "light"
     },
     "output_type": "display_data"
    }
   ],
   "source": [
    "t0_flex = time.time()\n",
    "grid_monte_carlo_polymer_mediflex, epsilon = run_simulation_with_polymers_fixed_grid(grid_polymers, 30000, 200, movement=\"medium_flex\")\n",
    "print(f\"The run time for medium flexible was: {time.time() - t0_flex} s\")\n",
    "visualize_grid(grid_monte_carlo_polymer_mediflex)\n"
   ]
  },
  {
   "cell_type": "markdown",
   "metadata": {
    "cell_id": "df0fb076-531a-4395-b271-f441650273c5",
    "deepnote_cell_type": "markdown",
    "tags": []
   },
   "source": [
    "The resulting energy graph using the medium flexible move fluctates around a smaller value than the energy grid we get using the rigid move. After looking at several grids after 30000 Monte Carlo itterations, using the medium flexible move, we noticed that the polymers of opposite charge that stick together long and norrow, compared to the resulting grid from the rigid move. As a result, more monomers of opposite charge are in direct contact, which leads to a lower total energy. To sum up the energy at equilibrium is lower for the medium flexible move, than for the rigid move."
   ]
  },
  {
   "cell_type": "markdown",
   "metadata": {
    "cell_id": "97faaecd-faa7-4b71-8042-830634685a2e",
    "deepnote_cell_type": "markdown",
    "tags": []
   },
   "source": [
    "Now that we have a way to model medium flexible movement of polymers, we can finally investigate the formatation of clusters or organelles. To get a sense of how polymer length is related to the formation of clusters we are going to simulate the system at the same temperature, but with different polymer length L. \n",
    "\n",
    "Since for the low temperature case above it looked to be at equilibrium within 30 000 steps, a rough upper limit is fine to set at around 50 000 - 100 000 steps. Since we can in reasonalbe time complte 100 samples after equilibrium, we choose n=100 to get a large pool of samples of the amount of clusters.\n",
    "\n",
    "The values we are interested in are $\\langle d \\rangle / L$ and $\\langle m \\rangle$. Here d also refers to the cluster size and m refers to the amount of clusters. We choose 13 evenely spaced values of L between 3 and 39 to get our data. Other values are T=300k, t_r = 1000, N=30 and M=5. This simulation is implemented in the function [run_sim_poly_cluster()](#polymer_cluster), as seen below."
   ]
  },
  {
   "cell_type": "code",
   "execution_count": 21,
   "metadata": {
    "cell_id": "cda092b4-5136-4e8b-9c4d-72c3108b3646",
    "deepnote_cell_type": "code",
    "deepnote_output_heights": [
     null,
     443
    ],
    "deepnote_to_be_reexecuted": false,
    "execution_millis": 282840,
    "execution_start": 1644846673373,
    "source_hash": "505c30f0",
    "tags": []
   },
   "outputs": [
    {
     "name": "stdout",
     "output_type": "stream",
     "text": [
      "Start\n",
      "Done: 3.0\n",
      "Done: 6.0\n",
      "Done: 9.0\n",
      "Done: 12.0\n",
      "Done: 15.0\n",
      "Done: 18.0\n",
      "Done: 21.0\n",
      "Done: 24.0\n",
      "Done: 27.0\n",
      "Done: 30.0\n",
      "Done: 33.0\n",
      "Done: 36.0\n",
      "Done: 39.0\n",
      "Finished\n"
     ]
    },
    {
     "data": {
      "image/png": "[encoded data removed]",
      "text/plain": [
       "<Figure size 1008x504 with 2 Axes>"
      ]
     },
     "metadata": {
      "needs_background": "light"
     },
     "output_type": "display_data"
    }
   ],
   "source": [
    "run_sim_poly_cluster()"
   ]
  },
  {
   "cell_type": "markdown",
   "metadata": {
    "cell_id": "3c2d5b79-aca0-42a8-aff8-155b096c0feb",
    "deepnote_cell_type": "markdown",
    "tags": []
   },
   "source": [
    "The plot on the right is to be expected, since with bigger values of L the polymers get larger and will have more neighbor positions where it can lower the total energy. Therfore they will clump more, since the total energy can get drastically lower for polymers with bigger L. Another element to keep in mind is that is simply less vacant spaces left for monomers to occupy, and therfore it is more likely that polymers will be clumped together. \n",
    "\n",
    "With lower values of L, the polymers will act more monomer like, since the change between 3 and 1 monomer is clearly less drastic then 1 and 39. With only 5 \"monomer\" like polymers, it is clearly not likely that alot of them will clump together. By dividing the mean cluster size by L we get a measure of the cluster size if every polymer was a monomer instead. The left plot therefore also supports the idea of bigger clusters being creates when increasing L. This can be compared to making the 5 polymers not act like normal monomers, but rather they will act like larger monomers that are more flexible to reduce the total energy of the system. \n",
    "\n",
    "Since the shape of larger polymers are generally more confined, they will generally be more affected by initial conditions. Therefore we expect the results to vary more for larger values of L. Even within the same simulation it looks to vary quite a bit, which can be seen by the large standard deviation of mean cluster size for the larger values of L.\n",
    "\n",
    "If we were to use rigid move instead, we expect the amount of clusters to be larger. Our thought process being that the polymers will not be able to make long thin shapes to better be able to connect the different polymers into clusters."
   ]
  },
  {
   "cell_type": "markdown",
   "metadata": {
    "cell_id": "a9c13699-0018-47c3-bc6b-1a8daac40d60",
    "deepnote_cell_type": "markdown",
    "tags": []
   },
   "source": [
    "Finally lets compare how the much temperature vs L matters in the formation of cluster. To show this we run [run_sim_poly_cluster_compare()](#poly_cluster). This is a modified version of the previous simulation, which goes through 10 values of T and 10 values of L, and plots the results with a 2D surface."
   ]
  },
  {
   "cell_type": "code",
   "execution_count": 14,
   "metadata": {
    "cell_id": "f4746dcd-e335-4c56-b935-87d2e27446a9",
    "deepnote_cell_type": "code",
    "deepnote_to_be_reexecuted": false,
    "execution_millis": 49705,
    "execution_start": 1644847042216,
    "source_hash": "c688e79f",
    "tags": []
   },
   "outputs": [
    {
     "name": "stdout",
     "output_type": "stream",
     "text": [
      "Start\n"
     ]
    }
   ],
   "source": [
    "run_sim_poly_cluster_compare()"
   ]
  },
  {
   "cell_type": "markdown",
   "metadata": {
    "cell_id": "6b1b2fad-d5f8-43f2-86ae-5bd2a69b9a90",
    "deepnote_cell_type": "markdown",
    "tags": []
   },
   "source": [
    "Our results indicates that is the value L which is the most important factor in the formation of polymers. We think this is the case since L is a more restrictiv property. Larger polymers will have less room to move, and will have more potential ways to decrease their energy. Temperature just introduces some instability."
   ]
  }
 ],
 "metadata": {
  "deepnote": {},
  "deepnote_execution_queue": [
   {
    "cellId": "f4746dcd-e335-4c56-b935-87d2e27446a9",
    "msgId": "c6ac6b90-d334-48c8-a6d9-bc1edd0a57c6",
    "sessionId": "32818718-fc1b-488b-a828-0691e2407015"
   },
   {
    "cellId": "1f224701-aa22-49d2-b1f4-92dc71d0974d",
    "msgId": "aab21483-dd1d-40af-95cf-fb97edf28f2d",
    "sessionId": "32818718-fc1b-488b-a828-0691e2407015"
   }
  ],
  "deepnote_notebook_id": "1c834398-e323-4820-9a06-9d395b86f812",
  "interpreter": {
   "hash": "8e61c9422603e3d3820d3aeca1b8eefe471d1a1023a28a3903412dc32402bf43"
  },
  "kernelspec": {
   "display_name": "Python 3",
   "language": "python",
   "name": "python3"
  },
  "language_info": {
   "codemirror_mode": {
    "name": "ipython",
    "version": 3
   },
   "file_extension": ".py",
   "mimetype": "text/x-python",
   "name": "python",
   "nbconvert_exporter": "python",
   "pygments_lexer": "ipython3",
   "version": "3.7.4"
  }
 },
 "nbformat": 4,
 "nbformat_minor": 2
}
